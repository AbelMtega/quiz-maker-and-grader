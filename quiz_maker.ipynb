{
 "cells": [
  {
   "cell_type": "code",
   "execution_count": null,
   "id": "81fed518-6723-4df6-b623-33b8c53a348b",
   "metadata": {},
   "outputs": [],
   "source": [
    "# Dictionary to store quiz questions\n",
    "\n",
    "quiz_questions = {\n",
    "    \"1. What is the correct file extension for Python files?\": {\n",
    "        \"options\": [\"A) .pt\", \"B) .py\", \"C) .python\", \"D) .pyt\"],\n",
    "        \"answer\": \"B\"\n",
    "    },\n",
    "    \"2. What is the output of print(2 ** 3)?\": {\n",
    "        \"options\": [\"A) 5\", \"B) 6\", \"C) 8\", \"D) 9\"],\n",
    "        \"answer\": \"C\"\n",
    "    },\n",
    "    \"3. Which method is used to add an item to a list in Python?\": {\n",
    "        \"options\": [\"A) int()\", \"B) append()\", \"C) push()\", \"D) insert()\"],\n",
    "        \"answer\": \"B\"\n",
    "    },\n",
    "    \"4. How can you create a comment in Python?\": {\n",
    "        \"options\": [\"A) //\", \"B) **\", \"C) /*\", \"D) #\"],\n",
    "        \"answer\": \"D\"\n",
    "    },\n",
    "    \"5. Which type of Programming does Python support?\": {\n",
    "        \"options\": [\"A) object-oriented programming\", \"B) structured programming\", \"C) functional programming\", \"D) all of the mentioned\"],\n",
    "        \"answer\": \"D\"\n",
    "    },\n",
    "    \"6. Is Python case sensitive when dealing with identifiers?\": {\n",
    "        \"options\": [\"A) no\", \"B) yes\", \"C) machine dependent\", \"D) none of the mentioned\"],\n",
    "        \"answer\": \"B\"\n",
    "    },\n",
    "    \"7. Is Python code compiled or interpreted?\": {\n",
    "        \"options\": [\"A) Python code is both compiled and interpreted\", \"B) Python code is neither compiled nor interpreted\", \"C) Python code is only compiled\", \"D) Python code is only interpreted\"],\n",
    "        \"answer\": \"A\"\n",
    "    },\n",
    "    \"8. All keywords in Python are in:\": {\n",
    "        \"options\": [\"A) Capitalized\", \"B) lower case\", \"C) UPPER CASE\", \"D) None of the mentioned\"],\n",
    "        \"answer\": \"D\"\n",
    "    },\n",
    "    \"9. Which of the following is used to define a block of code in Python language?\": {\n",
    "        \"options\": [\"A) Indentation\", \"B) Key\", \"C) Brackets\", \"D) All of the mentioned\"],\n",
    "        \"answer\": \"A\"\n",
    "    },\n",
    "    \"10. Who developed Python Programming Language?\": {\n",
    "        \"options\": [\"A) Wick van Rossum\", \"B) Rasmus Lerdorf\", \"C) Guido van Rossum\", \"D) Niene Stom\"],\n",
    "        \"answer\": \"C\"\n",
    "    },\n",
    "}"
   ]
  },
  {
   "cell_type": "code",
   "execution_count": null,
   "id": "875a9571-3412-40d1-8e2b-1cc21e00c53f",
   "metadata": {},
   "outputs": [],
   "source": [
    "\"\"\"\n",
    "The below block of code gives the admin access to create more questions to be added to the questions and also answer the questions.\n",
    "\"\"\"\n",
    "\n",
    "def add_custom_questions():\n",
    "print(\"\\n Add your own Questions (type 'done' to stop)\\n\")\n",
    "      while True:\n",
    "          question = input(\"Enter your question (or type 'done' to finish): \")\n",
    "          if question.lower() == \"done\":\n",
    "              break\n",
    "      options = []\n",
    "      for i in [\"A\", \"B\", \"C\", \"D\"]:\n",
    "          option = input(f\"Enter option {i}: \")\n",
    "          options.append(f\"{i}. {option}\")\n",
    "      answer = input(\"Enter the correct answer (A, B, C, or D): \").strip().upper()\n",
    "      if answer in [\"A\", \"B\", \"C\", \"D\"]:\n",
    "          quiz_questions[question] = {\"options\": options, \"answer\": answer}\n",
    "          print(\"Question added!\\n\")\n",
    "      else:\n",
    "          print(\"Invalid answer. Please use A, B, C, or D. \\n\""
   ]
  },
  {
   "cell_type": "code",
   "execution_count": null,
   "id": "f21cec10-b58e-4270-84a1-95998941046a",
   "metadata": {
    "editable": true,
    "slideshow": {
     "slide_type": ""
    },
    "tags": []
   },
   "outputs": [],
   "source": [
    "# Save the quiz results to a file\n",
    "\n",
    "def save_score(name,score,total):\n",
    "    with open(\"quiz_score.text\", \"a\") as file:\n",
    "        file.write(f\"(name): {score}/{total}\\n\")\n",
    "    print(\"Your score has been saved! \\n\")"
   ]
  },
  {
   "cell_type": "code",
   "execution_count": null,
   "id": "c7161903-30e0-49f9-8ad5-762a1f8bcc3c",
   "metadata": {},
   "outputs": [],
   "source": [
    "\"\"\"\n",
    "The below block is the main function to start the quiz where the user enters their name and role to procees with the quiz\n",
    "\"\"\"\n",
    "\n",
    "def main():\n",
    "    print(\"Welcome to the Quiz maker & grader!\")\n",
    "    name = input(\"Enter your name: \")\n",
    "    role = input(\"Enter your role (admin/student): \").lower()\n",
    "\n",
    "    if role === 'admin':\n",
    "        print(f\"\\n Admin Access Granted. Hello {name}!\")\n",
    "        add_q = input(\"Would you like to add your own questions? (yes/no):.lower()\n",
    "        if add_q ==\"yes\":\n",
    "            add_custom_questions()\n",
    "    elif role == \"student\":\n",
    "        print(f\"\\n Hello, {name}! Let's begin your quiz.\")\n",
    "    else:\n",
    "        print(\" Invalid role. Exiting the program.\")\n",
    "        return\n",
    "\n",
    "    score, total = run_quiz()\n",
    "    save_score(name, score, total)"
   ]
  },
  {
   "cell_type": "code",
   "execution_count": null,
   "id": "49e4a052-5fa4-4c18-a3cb-040fa35ebc88",
   "metadata": {
    "editable": true,
    "slideshow": {
     "slide_type": ""
    },
    "tags": []
   },
   "outputs": [],
   "source": [
    "#Function call to start the program\n",
    "\n",
    "main()"
   ]
  }
 ],
 "metadata": {
  "kernelspec": {
   "display_name": "Python [conda env:base] *",
   "language": "python",
   "name": "conda-base-py"
  },
  "language_info": {
   "codemirror_mode": {
    "name": "ipython",
    "version": 3
   },
   "file_extension": ".py",
   "mimetype": "text/x-python",
   "name": "python",
   "nbconvert_exporter": "python",
   "pygments_lexer": "ipython3",
   "version": "3.12.7"
  }
 },
 "nbformat": 4,
 "nbformat_minor": 5
}
